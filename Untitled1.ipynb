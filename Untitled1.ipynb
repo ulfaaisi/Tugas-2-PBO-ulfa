{
  "nbformat": 4,
  "nbformat_minor": 0,
  "metadata": {
    "colab": {
      "provenance": [],
      "authorship_tag": "ABX9TyPLhPXCynFksh4dA1zZqlfb",
      "include_colab_link": true
    },
    "kernelspec": {
      "name": "python3",
      "display_name": "Python 3"
    },
    "language_info": {
      "name": "python"
    }
  },
  "cells": [
    {
      "cell_type": "markdown",
      "metadata": {
        "id": "view-in-github",
        "colab_type": "text"
      },
      "source": [
        "<a href=\"https://colab.research.google.com/github/ulfaaisi/Tugas-2-PBO-ulfa/blob/main/Untitled1.ipynb\" target=\"_parent\"><img src=\"https://colab.research.google.com/assets/colab-badge.svg\" alt=\"Open In Colab\"/></a>"
      ]
    },
    {
      "cell_type": "code",
      "execution_count": 1,
      "metadata": {
        "colab": {
          "base_uri": "https://localhost:8080/"
        },
        "id": "37-6TTj9CrSv",
        "outputId": "31261c9c-fac3-4abc-fda2-361da406b658"
      },
      "outputs": [
        {
          "output_type": "stream",
          "name": "stdout",
          "text": [
            "nim   : 230705012\n",
            "nama   : ulfa\n",
            "jurusan : teknologi informasi\n"
          ]
        }
      ],
      "source": [
        "class CetakNamaMahasiswa:\n",
        " def __init__(self, nim, nama, jurusan):\n",
        "    self.nim = nim\n",
        "    self.nama = nama\n",
        "    self.jurusan = jurusan\n",
        "\n",
        " def print_identitas(self):\n",
        "    print(\"nim   :\", self.nim)\n",
        "    print(\"nama   :\", self.nama)\n",
        "    print(\"jurusan :\", self.jurusan)\n",
        "\n",
        "obj = CetakNamaMahasiswa(230705012,\"ulfa\",\"teknologi informasi\")\n",
        "obj.print_identitas()"
      ]
    }
  ]
}