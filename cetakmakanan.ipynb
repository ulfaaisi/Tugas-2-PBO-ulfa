{
  "nbformat": 4,
  "nbformat_minor": 0,
  "metadata": {
    "colab": {
      "provenance": [],
      "authorship_tag": "ABX9TyMxwKSnsKXoZ3XXgSYjqH4i",
      "include_colab_link": true
    },
    "kernelspec": {
      "name": "python3",
      "display_name": "Python 3"
    },
    "language_info": {
      "name": "python"
    }
  },
  "cells": [
    {
      "cell_type": "markdown",
      "metadata": {
        "id": "view-in-github",
        "colab_type": "text"
      },
      "source": [
        "<a href=\"https://colab.research.google.com/github/ulfaaisi/Tugas-2-PBO-ulfa/blob/main/Untitled4.ipynb\" target=\"_parent\"><img src=\"https://colab.research.google.com/assets/colab-badge.svg\" alt=\"Open In Colab\"/></a>"
      ]
    },
    {
      "cell_type": "code",
      "execution_count": 11,
      "metadata": {
        "colab": {
          "base_uri": "https://localhost:8080/"
        },
        "id": "uAnVLxbzF3CP",
        "outputId": "f6ae3885-d0a5-428d-f84f-28616c14ce7b"
      },
      "outputs": [
        {
          "output_type": "stream",
          "name": "stdout",
          "text": [
            "nasgor \n",
            "nasgor \n",
            "nasgor \n"
          ]
        }
      ],
      "source": [
        "class makanan:\n",
        "    def __init__(self,makanan,jumlah):\n",
        "      self.makanan = makanan\n",
        "      self.jumlah = jumlah\n",
        "\n",
        "    def print_makanan(self):\n",
        "      for i in range(self.jumlah):\n",
        "        print(self.makanan)\n",
        "\n",
        "obj = makanan(\"nasgor \",3)\n",
        "obj.print_makanan()\n",
        "\n",
        "\n",
        "\n",
        "\n",
        "\n",
        "\n",
        "\n",
        "\n"
      ]
    }
  ]
}
