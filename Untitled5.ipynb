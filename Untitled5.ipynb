{
  "nbformat": 4,
  "nbformat_minor": 0,
  "metadata": {
    "colab": {
      "provenance": [],
      "authorship_tag": "ABX9TyMoKj6D34VzCvkzrkxq1AiS",
      "include_colab_link": true
    },
    "kernelspec": {
      "name": "python3",
      "display_name": "Python 3"
    },
    "language_info": {
      "name": "python"
    }
  },
  "cells": [
    {
      "cell_type": "markdown",
      "metadata": {
        "id": "view-in-github",
        "colab_type": "text"
      },
      "source": [
        "<a href=\"https://colab.research.google.com/github/ulfaaisi/Tugas-2-PBO-ulfa/blob/main/Untitled5.ipynb\" target=\"_parent\"><img src=\"https://colab.research.google.com/assets/colab-badge.svg\" alt=\"Open In Colab\"/></a>"
      ]
    },
    {
      "cell_type": "code",
      "execution_count": 15,
      "metadata": {
        "colab": {
          "base_uri": "https://localhost:8080/"
        },
        "id": "fs6hyveXzdwy",
        "outputId": "f43463f1-093e-4dc9-9aa4-444826f613f5"
      },
      "outputs": [
        {
          "output_type": "stream",
          "name": "stdout",
          "text": [
            "nim  : 23071\n",
            "nama   : reja\n",
            "judul  : teknologi dalam pertanian\n",
            "dosen_pembimbing  : riduan\n"
          ]
        }
      ],
      "source": [
        "class TugasAkhir:\n",
        "    def __init__(self, nim, nama, judul, dosen_pembimbing):\n",
        "        self.nim = nim\n",
        "        self.nama = nama\n",
        "        self.judul = judul\n",
        "        self.dosen_pembimbing = dosen_pembimbing\n",
        "\n",
        "    def print_identitas(self):\n",
        "        print(\"nim  :\", self.nim)\n",
        "        print(\"nama   :\", self.nama)\n",
        "        print(\"judul  :\", self.judul)\n",
        "        print(\"dosen_pembimbing  :\", self.dosen_pembimbing)\n",
        "\n",
        "obj = TugasAkhir(23071,\"reja\",\"teknologi dalam pertanian\", \"riduan\")\n",
        "obj.print_identitas()\n",
        "\n",
        "\n",
        ""
      ]
    }
  ]
}