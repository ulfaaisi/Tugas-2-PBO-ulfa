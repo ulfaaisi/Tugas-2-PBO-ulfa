{
  "nbformat": 4,
  "nbformat_minor": 0,
  "metadata": {
    "colab": {
      "provenance": [],
      "authorship_tag": "ABX9TyOQLrYhOSqcFr2SPHKmGCBK",
      "include_colab_link": true
    },
    "kernelspec": {
      "name": "python3",
      "display_name": "Python 3"
    },
    "language_info": {
      "name": "python"
    }
  },
  "cells": [
    {
      "cell_type": "markdown",
      "metadata": {
        "id": "view-in-github",
        "colab_type": "text"
      },
      "source": [
        "<a href=\"https://colab.research.google.com/github/ulfaaisi/Tugas-2-PBO-ulfa/blob/main/Untitled3.ipynb\" target=\"_parent\"><img src=\"https://colab.research.google.com/assets/colab-badge.svg\" alt=\"Open In Colab\"/></a>"
      ]
    },
    {
      "cell_type": "code",
      "execution_count": 3,
      "metadata": {
        "colab": {
          "base_uri": "https://localhost:8080/"
        },
        "id": "uAnVLxbzF3CP",
        "outputId": "0e6ed15e-cd21-459b-97dd-53715b80a482"
      },
      "outputs": [
        {
          "output_type": "stream",
          "name": "stdout",
          "text": [
            "es teler \n"
          ]
        }
      ],
      "source": [
        "class menuberbuka:\n",
        "    def __init__(self,menuberbuka,jumlah):\n",
        "      self.menuberbuka = menuberbuka\n",
        "      self.jumlah = jumlah\n",
        "\n",
        "    def print_berbuka(self):\n",
        "      for i in range(self.jumlah):\n",
        "        print(self.menuberbuka)\n",
        "\n",
        "obj = menuberbuka(\"es teler \",1)\n",
        "obj.print_berbuka()\n",
        "\n",
        "\n",
        "\n"
      ]
    }
  ]
}
