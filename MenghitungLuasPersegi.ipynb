{
  "nbformat": 4,
  "nbformat_minor": 0,
  "metadata": {
    "colab": {
      "provenance": [],
      "authorship_tag": "ABX9TyPvIhLyKgnrmaoyPbH+CWgT",
      "include_colab_link": true
    },
    "kernelspec": {
      "name": "python3",
      "display_name": "Python 3"
    },
    "language_info": {
      "name": "python"
    }
  },
  "cells": [
    {
      "cell_type": "markdown",
      "metadata": {
        "id": "view-in-github",
        "colab_type": "text"
      },
      "source": [
        "<a href=\"https://colab.research.google.com/github/ulfaaisi/Tugas-2-PBO-ulfa/blob/main/MenghitungLuasPersegi.ipynb\" target=\"_parent\"><img src=\"https://colab.research.google.com/assets/colab-badge.svg\" alt=\"Open In Colab\"/></a>"
      ]
    },
    {
      "cell_type": "code",
      "execution_count": 1,
      "metadata": {
        "colab": {
          "base_uri": "https://localhost:8080/"
        },
        "id": "37-6TTj9CrSv",
        "outputId": "31261c9c-fac3-4abc-fda2-361da406b658"
      },
      "outputs": [
        {
          "output_type": "stream",
          "name": "stdout",
          "text": [
            "nim   : 230705012\n",
            "nama   : ulfa\n",
            "jurusan : teknologi informasi\n"
          ]
        }
      ],
      "source": []
    },
    {
      "cell_type": "code",
      "execution_count": 3,
      "metadata": {
        "colab": {
          "base_uri": "https://localhost:8080/"
        },
        "outputId": "19e613fe-c970-40cb-c4aa-bed5fb6213e8",
        "id": "tJodgnRdFEhD"
      },
      "outputs": [
        {
          "output_type": "stream",
          "name": "stdout",
          "text": [
            "Keliling persegi:  256\n"
          ]
        }
      ],
      "source": [
        "class MenghitungLuaspersegi:\n",
        "  def __init__(self,a,b,c,d):\n",
        "    self.a = a\n",
        "    self.b = b\n",
        "    self.c = c\n",
        "    self.d = d\n",
        "\n",
        "obj = MenghitungLuaspersegi(4,4,4,4)\n",
        "keliling = obj.a * obj.b * obj.c * obj.d\n",
        "print(\"Keliling persegi: \", keliling)\n",
        "\n"
      ]
    },
    {
      "cell_type": "code",
      "execution_count": null,
      "metadata": {
        "colab": {
          "base_uri": "https://localhost:8080/"
        },
        "id": "fs6hyveXzdwy",
        "outputId": "cdfc35f6-288f-4ff6-e873-17648e6432a5"
      },
      "outputs": [
        {
          "output_type": "stream",
          "name": "stdout",
          "text": [
            "Keliling persegi:  256\n"
          ]
        }
      ],
      "source": [
        "\n",
        "\n"
      ]
    }
  ]
}