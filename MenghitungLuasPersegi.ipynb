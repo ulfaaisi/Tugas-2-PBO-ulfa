{
  "nbformat": 4,
  "nbformat_minor": 0,
  "metadata": {
    "colab": {
      "provenance": [],
      "authorship_tag": "ABX9TyPEyyrkWO5sm3Q+G3/+fBSR",
      "include_colab_link": true
    },
    "kernelspec": {
      "name": "python3",
      "display_name": "Python 3"
    },
    "language_info": {
      "name": "python"
    }
  },
  "cells": [
    {
      "cell_type": "markdown",
      "metadata": {
        "id": "view-in-github",
        "colab_type": "text"
      },
      "source": [
        "<a href=\"https://colab.research.google.com/github/ulfaaisi/Tugas-2-PBO-ulfa/blob/main/MenghitungLuasPersegi.ipynb\" target=\"_parent\"><img src=\"https://colab.research.google.com/assets/colab-badge.svg\" alt=\"Open In Colab\"/></a>"
      ]
    },
    {
      "cell_type": "code",
      "execution_count": 6,
      "metadata": {
        "colab": {
          "base_uri": "https://localhost:8080/"
        },
        "id": "fs6hyveXzdwy",
        "outputId": "cdfc35f6-288f-4ff6-e873-17648e6432a5"
      },
      "outputs": [
        {
          "output_type": "stream",
          "name": "stdout",
          "text": [
            "Keliling persegi:  256\n"
          ]
        }
      ],
      "source": [
        "class MenghitungLuaspersegi:\n",
        "  def __init__(self,a,b,c,d):\n",
        "    self.a = a\n",
        "    self.b = b\n",
        "    self.c = c\n",
        "    self.d = d\n",
        "\n",
        "obj = MenghitungLuaspersegi(4,4,4,4)\n",
        "keliling = obj.a * obj.b * obj.c * obj.d\n",
        "print(\"Keliling persegi: \", keliling)\n",
        "\n",
        ""
      ]
    }
  ]
}