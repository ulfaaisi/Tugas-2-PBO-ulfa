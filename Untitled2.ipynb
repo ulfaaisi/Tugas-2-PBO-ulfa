{
  "nbformat": 4,
  "nbformat_minor": 0,
  "metadata": {
    "colab": {
      "provenance": [],
      "authorship_tag": "ABX9TyNOy1FSQQsBPkUZRbC/BcjI",
      "include_colab_link": true
    },
    "kernelspec": {
      "name": "python3",
      "display_name": "Python 3"
    },
    "language_info": {
      "name": "python"
    }
  },
  "cells": [
    {
      "cell_type": "markdown",
      "metadata": {
        "id": "view-in-github",
        "colab_type": "text"
      },
      "source": [
        "<a href=\"https://colab.research.google.com/github/ulfaaisi/Tugas-2-PBO-ulfa/blob/main/Untitled2.ipynb\" target=\"_parent\"><img src=\"https://colab.research.google.com/assets/colab-badge.svg\" alt=\"Open In Colab\"/></a>"
      ]
    },
    {
      "cell_type": "code",
      "execution_count": 2,
      "metadata": {
        "colab": {
          "base_uri": "https://localhost:8080/"
        },
        "id": "uAnVLxbzF3CP",
        "outputId": "699680c6-aa00-4424-f9cb-fd55705666c5"
      },
      "outputs": [
        {
          "output_type": "stream",
          "name": "stdout",
          "text": [
            "Keliling persegi:  256\n"
          ]
        }
      ],
      "source": [
        "class MenghitungLuaspersegi:\n",
        "  def __init__(self,a,b,c,d):\n",
        "    self.a = a\n",
        "    self.b = b\n",
        "    self.c = c\n",
        "    self.d = d\n",
        "\n",
        "obj = MenghitungLuaspersegi(4,4,4,4)\n",
        "keliling = obj.a * obj.b * obj.c * obj.d\n",
        "print(\"Keliling persegi: \", keliling)"
      ]
    }
  ]
}